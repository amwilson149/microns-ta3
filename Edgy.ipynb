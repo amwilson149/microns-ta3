{
 "cells": [
  {
   "cell_type": "code",
   "execution_count": 1,
   "metadata": {
    "collapsed": true
   },
   "outputs": [],
   "source": [
    "import datajoint as dj\n",
    "dj.config['database.host'] = 'datajoint.ninai.org'\n",
    "dj.config['database.user'] = 'dimitri'\n"
   ]
  },
  {
   "cell_type": "code",
   "execution_count": 2,
   "metadata": {},
   "outputs": [
    {
     "name": "stdout",
     "output_type": "stream",
     "text": [
      "Please enter DataJoint password: ········\n",
      "Connecting dimitri@datajoint.ninai.org:3306\n"
     ]
    }
   ],
   "source": [
    "nda = dj.create_virtual_module('nda', 'microns_nda')"
   ]
  },
  {
   "cell_type": "code",
   "execution_count": 3,
   "metadata": {
    "collapsed": true
   },
   "outputs": [],
   "source": [
    "schema = dj.schema('microns_ta3', locals())"
   ]
  },
  {
   "cell_type": "code",
   "execution_count": 4,
   "metadata": {
    "collapsed": true
   },
   "outputs": [],
   "source": [
    "@schema\n",
    "class Segmentation(dj.Manual):\n",
    "    definition = \"\"\"\n",
    "    # Segmentation iteration or snapshot\n",
    "    segmentation  : smallint   # segmentation id\n",
    "    ---\n",
    "    segmentation_description : varchar(4000)   #  free text description of the segmentation    \n",
    "    \"\"\""
   ]
  },
  {
   "cell_type": "code",
   "execution_count": 5,
   "metadata": {
    "collapsed": true
   },
   "outputs": [],
   "source": [
    "@schema\n",
    "class Segment(dj.Manual):\n",
    "    definition = \"\"\"\n",
    "    # Segment: a volumetric segmented object\n",
    "    -> Segmentation\n",
    "    segment_id : bigint   # segment id unique within each Segmentation\n",
    "    ---\n",
    "    boss_vset_id         : bigint unsigned              # \n",
    "    key_point_x          : int                          # (um) \n",
    "    key_point_y          : int                          # (um)\n",
    "    key_point_z          : int                          # (um)\n",
    "    x_min                : int                          # (um) bounding box \n",
    "    y_min                : int                          # (um) bounding box\n",
    "    z_min                : int                          # (um) bounding box\n",
    "    x_max                : int                          # (um) bounding box\n",
    "    y_max                : int                          # (um) bounding box\n",
    "    z_max                : int                          # (um) bounding box\n",
    "    \"\"\""
   ]
  },
  {
   "cell_type": "code",
   "execution_count": 6,
   "metadata": {
    "collapsed": true
   },
   "outputs": [],
   "source": [
    "@schema\n",
    "class Mesh(dj.Manual):\n",
    "    definition = \"\"\"\n",
    "    # Trimesh of Segment\n",
    "    -> Segment\n",
    "    \"\"\"\n",
    "    \n",
    "    class Fragment(dj.Part):\n",
    "        definition = \"\"\"\n",
    "        # Mesh Fragment\n",
    "        -> Mesh\n",
    "        fragment             : smallint                     # fragment in mesh\n",
    "        ---\n",
    "        bound_x_min          : int                          # \n",
    "        bound_x_max          : int                          # \n",
    "        bound_y_min          : int                          # \n",
    "        bound_y_max          : int                          # \n",
    "        bound_z_min          : int                          # \n",
    "        bound_z_max          : int                          # \n",
    "        n_vertices           : int                          # number of vertices in this mesh\n",
    "        n_triangles          : int                          # number of triangles in this mesh\n",
    "        vertices             : longblob                     # x,y,z coordinates of vertices\n",
    "        triangles            : longblob                     # triangles (triplets of vertices)\n",
    "        \"\"\""
   ]
  },
  {
   "cell_type": "code",
   "execution_count": 7,
   "metadata": {
    "collapsed": true
   },
   "outputs": [],
   "source": [
    "@schema \n",
    "class Synapse(dj.Manual):\n",
    "    definition = \"\"\"\n",
    "    # Anatomically localized synapse between two Segments\n",
    "    -> Segmentation\n",
    "    synapse_index        : int                     # synapse index within the segmentation\n",
    "    ---\n",
    "    (presyn) -> Segment\n",
    "    (postsyn) -> Segment\n",
    "    synapse_x            : float                        # \n",
    "    synapse_y            : float                        # \n",
    "    synapse_z            : float                        \n",
    "    \"\"\"\n"
   ]
  },
  {
   "cell_type": "code",
   "execution_count": 8,
   "metadata": {
    "collapsed": true
   },
   "outputs": [],
   "source": [
    "\n",
    "@schema\n",
    "class Soma(dj.Manual):\n",
    "    definition = \"\"\"\n",
    "    # A segment including a cell soma\n",
    "    -> Segment\n",
    "    ---\n",
    "    -> nda.EMCell\n",
    "    \"\"\""
   ]
  },
  {
   "cell_type": "code",
   "execution_count": 9,
   "metadata": {
    "collapsed": true
   },
   "outputs": [],
   "source": [
    "@schema\n",
    "class Classification(dj.Lookup):\n",
    "    definition = \"\"\"\n",
    "    # all possible cell types\n",
    "    celltype : varchar(8)   # short name of cell type\n",
    "    ---\n",
    "    celltype_description : varchar(255)  # detailed description of cell type\n",
    "    \"\"\"\n",
    "\n",
    "@schema \n",
    "class Class(dj.Manual):\n",
    "    definition = \"\"\"\n",
    "    # Cell classification\n",
    "    -> Segment\n",
    "    -> Classification\n",
    "    \"\"\"\n",
    "    \n",
    "@schema\n",
    "class Neurite(dj.Manual):\n",
    "    definition = \"\"\"\n",
    "    # orphaned axon or dendrite\n",
    "    -> Segment    \n",
    "    ---\n",
    "    -> nda.Mask\n",
    "    \"\"\""
   ]
  },
  {
   "cell_type": "code",
   "execution_count": 10,
   "metadata": {
    "collapsed": true
   },
   "outputs": [],
   "source": [
    "@schema\n",
    "class ChangeLog(dj.Manual):\n",
    "    definition = \"\"\"\n",
    "    log_entry    : serial \n",
    "    ---\n",
    "    change_date  : date \n",
    "    -> Segmentation\n",
    "    \"\"\""
   ]
  },
  {
   "cell_type": "code",
   "execution_count": 11,
   "metadata": {},
   "outputs": [
    {
     "ename": "NameError",
     "evalue": "name 'ta3' is not defined",
     "output_type": "error",
     "traceback": [
      "\u001b[0;31m---------------------------------------------------------------------------\u001b[0m",
      "\u001b[0;31mNameError\u001b[0m                                 Traceback (most recent call last)",
      "\u001b[0;32m<ipython-input-11-2467d2e661cc>\u001b[0m in \u001b[0;36m<module>\u001b[0;34m()\u001b[0m\n\u001b[0;32m----> 1\u001b[0;31m \u001b[0mdj\u001b[0m\u001b[0;34m.\u001b[0m\u001b[0mERD\u001b[0m\u001b[0;34m(\u001b[0m\u001b[0mta3\u001b[0m\u001b[0;34m)\u001b[0m \u001b[0;34m+\u001b[0m \u001b[0mdj\u001b[0m\u001b[0;34m.\u001b[0m\u001b[0mERD\u001b[0m\u001b[0;34m(\u001b[0m\u001b[0mnda\u001b[0m\u001b[0;34m)\u001b[0m\u001b[0;34m\u001b[0m\u001b[0m\n\u001b[0m",
      "\u001b[0;31mNameError\u001b[0m: name 'ta3' is not defined"
     ]
    }
   ],
   "source": [
    "dj.ERD(ta3) + dj.ERD(nda)"
   ]
  },
  {
   "cell_type": "code",
   "execution_count": null,
   "metadata": {
    "collapsed": true
   },
   "outputs": [],
   "source": [
    "nda.Soma()"
   ]
  },
  {
   "cell_type": "code",
   "execution_count": null,
   "metadata": {
    "collapsed": true
   },
   "outputs": [],
   "source": []
  }
 ],
 "metadata": {
  "kernelspec": {
   "display_name": "Python 3",
   "language": "python",
   "name": "python3"
  },
  "language_info": {
   "codemirror_mode": {
    "name": "ipython",
    "version": 3
   },
   "file_extension": ".py",
   "mimetype": "text/x-python",
   "name": "python",
   "nbconvert_exporter": "python",
   "pygments_lexer": "ipython3",
   "version": "3.6.2"
  }
 },
 "nbformat": 4,
 "nbformat_minor": 2
}
